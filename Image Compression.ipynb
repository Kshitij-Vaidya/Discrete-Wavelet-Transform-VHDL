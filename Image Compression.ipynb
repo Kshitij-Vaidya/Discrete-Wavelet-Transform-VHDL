{
 "cells": [
  {
   "cell_type": "code",
   "execution_count": 2,
   "metadata": {},
   "outputs": [],
   "source": [
    "from PIL import Image\n",
    "import numpy as np"
   ]
  },
  {
   "cell_type": "code",
   "execution_count": 3,
   "metadata": {},
   "outputs": [],
   "source": [
    "path = '/Users/kshitijvaidya/Downloads/PHOTO-2023-10-05-22-10-10.jpg'\n",
    "image = Image.open(path)\n",
    "image.show()"
   ]
  },
  {
   "cell_type": "code",
   "execution_count": 4,
   "metadata": {},
   "outputs": [
    {
     "data": {
      "text/plain": [
       "(1600, 1119, 3)"
      ]
     },
     "execution_count": 4,
     "metadata": {},
     "output_type": "execute_result"
    }
   ],
   "source": [
    "image_array = np.array(image)\n",
    "image_array.shape"
   ]
  },
  {
   "cell_type": "code",
   "execution_count": 5,
   "metadata": {},
   "outputs": [
    {
     "data": {
      "text/plain": [
       "1600"
      ]
     },
     "execution_count": 5,
     "metadata": {},
     "output_type": "execute_result"
    }
   ],
   "source": [
    "image_array.shape[0]"
   ]
  },
  {
   "cell_type": "code",
   "execution_count": 6,
   "metadata": {},
   "outputs": [
    {
     "data": {
      "text/plain": [
       "(1600, 1119, 3)"
      ]
     },
     "execution_count": 6,
     "metadata": {},
     "output_type": "execute_result"
    }
   ],
   "source": [
    "image=np.zeros(image_array.shape)\n",
    "image.shape"
   ]
  },
  {
   "cell_type": "code",
   "execution_count": 7,
   "metadata": {},
   "outputs": [],
   "source": [
    "def Filter_bank(image):\n",
    "    proc_image = np.zeros(image.shape)\n",
    "    for i in range(0,proc_image.shape[0]):\n",
    "        if i<proc_image.shape[0]//2:\n",
    "            proc_image[i] = (image[2*i] + image[2*i+1])//2\n",
    "        elif i > (proc_image.shape[0]/2 + 1):\n",
    "            proc_image[i] = abs((image[2*(i - proc_image.shape[0])] - image[2*(i - proc_image.shape[0])+1])//2)\n",
    "        else:\n",
    "            proc_image[i] = image[proc_image.shape[0] - 1]\n",
    "    return proc_image"
   ]
  },
  {
   "cell_type": "code",
   "execution_count": 8,
   "metadata": {},
   "outputs": [],
   "source": [
    "image1 = Filter_bank(image_array)\n",
    "image_final = Filter_bank(image1.transpose(1,0,2))\n",
    "image_final = image_final.transpose(1,0,2)"
   ]
  },
  {
   "cell_type": "code",
   "execution_count": 9,
   "metadata": {},
   "outputs": [],
   "source": [
    "final_image = Image.fromarray(image_final.astype(np.uint8))\n",
    "final_image.show()"
   ]
  },
  {
   "cell_type": "code",
   "execution_count": null,
   "metadata": {},
   "outputs": [],
   "source": []
  }
 ],
 "metadata": {
  "kernelspec": {
   "display_name": "Python 3",
   "language": "python",
   "name": "python3"
  },
  "language_info": {
   "codemirror_mode": {
    "name": "ipython",
    "version": 3
   },
   "file_extension": ".py",
   "mimetype": "text/x-python",
   "name": "python",
   "nbconvert_exporter": "python",
   "pygments_lexer": "ipython3",
   "version": "3.10.6"
  }
 },
 "nbformat": 4,
 "nbformat_minor": 2
}
