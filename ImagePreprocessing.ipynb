{
 "cells": [
  {
   "cell_type": "code",
   "execution_count": 1,
   "metadata": {},
   "outputs": [],
   "source": [
    "import numpy as np\n",
    "import cv2"
   ]
  },
  {
   "cell_type": "code",
   "execution_count": 2,
   "metadata": {},
   "outputs": [
    {
     "name": "stdout",
     "output_type": "stream",
     "text": [
      "(256, 256, 3)\n"
     ]
    }
   ],
   "source": [
    "# Load the Image\n",
    "path = '/Users/kshitijvaidya/Downloads/SampleImage-2.png'\n",
    "Image = cv2.imread(path)\n",
    "print(Image.shape)"
   ]
  },
  {
   "cell_type": "code",
   "execution_count": 3,
   "metadata": {},
   "outputs": [],
   "source": [
    "GrayImage = cv2.cvtColor(Image, cv2.COLOR_BGR2GRAY)"
   ]
  },
  {
   "cell_type": "code",
   "execution_count": 4,
   "metadata": {},
   "outputs": [],
   "source": [
    "BlockSize = 8\n",
    "\n",
    "ImageOut = np.zeros_like(GrayImage)\n",
    "Height, Width = ImageOut.shape"
   ]
  },
  {
   "cell_type": "code",
   "execution_count": 5,
   "metadata": {},
   "outputs": [],
   "source": [
    "# Image preprocessing Block\n",
    "for i in range(0, Height, BlockSize):\n",
    "    for j in range(0, Width, BlockSize):\n",
    "        Block = GrayImage[i : i + BlockSize , j : j + BlockSize]\n",
    "        ImageOut[i : i + BlockSize, j : j + BlockSize] = Block"
   ]
  },
  {
   "cell_type": "code",
   "execution_count": 6,
   "metadata": {},
   "outputs": [
    {
     "name": "stdout",
     "output_type": "stream",
     "text": [
      "(256, 256)\n"
     ]
    }
   ],
   "source": [
    "print(ImageOut.shape)"
   ]
  },
  {
   "cell_type": "code",
   "execution_count": 7,
   "metadata": {},
   "outputs": [],
   "source": [
    "OutputPath = 'Output.txt'\n",
    "np.savetxt(OutputPath, ImageOut, fmt='%d', delimiter='\\t')"
   ]
  },
  {
   "cell_type": "code",
   "execution_count": 9,
   "metadata": {},
   "outputs": [],
   "source": [
    "from PIL import Image"
   ]
  },
  {
   "cell_type": "code",
   "execution_count": 10,
   "metadata": {},
   "outputs": [],
   "source": [
    "OutPath = 'HexOutput.txt'\n",
    "np.savetxt(OutPath, ImageOut, fmt='%x', delimiter='\\t')"
   ]
  },
  {
   "cell_type": "code",
   "execution_count": 40,
   "metadata": {},
   "outputs": [],
   "source": [
    "BinaryOutput = []\n",
    "NoSpaceBinOut = []\n",
    "EightBlock = []\n",
    "\n",
    "with open('Output.txt', 'r') as file:\n",
    "    while True:\n",
    "        Line1 = file.readline()\n",
    "        Line2 = file.readline()\n",
    "\n",
    "        if not Line1 or not Line2:\n",
    "            break\n",
    "        # Convert the read strings into list\n",
    "        for i in range(0, len(Line1)-2, 2):\n",
    "            Block1 = Line1[i:i+2]\n",
    "            Block2 = Line2[i:i+2]\n",
    "            Block = Block1 + Block2\n",
    "            String = \"\"\n",
    "            NoSpace = \"\"\n",
    "            for num in Block:\n",
    "                BinStr = bin(int(num))[2:].zfill(8)\n",
    "                String += (BinStr + ' ')\n",
    "                NoSpace += BinStr\n",
    "            String = [String]\n",
    "            NoSpace = [NoSpace]\n",
    "            BinaryOutput.append(String)\n",
    "            NoSpaceBinOut.append(NoSpace)\n",
    "            "
   ]
  },
  {
   "cell_type": "code",
   "execution_count": 37,
   "metadata": {},
   "outputs": [
    {
     "name": "stdout",
     "output_type": "stream",
     "text": [
      "['11111111 11111011 11111011 11100110 ']\n"
     ]
    }
   ],
   "source": [
    "print(BinaryOutput[0])"
   ]
  },
  {
   "cell_type": "code",
   "execution_count": 39,
   "metadata": {},
   "outputs": [],
   "source": [
    "path = 'BinaryOutput.txt'\n",
    "with open(path, 'w') as file:\n",
    "    for item in BinaryOutput:\n",
    "        file.write(item[0] + '\\n')"
   ]
  },
  {
   "cell_type": "code",
   "execution_count": 41,
   "metadata": {},
   "outputs": [],
   "source": [
    "path = '32BitBinaryOutput.txt'\n",
    "with open(path, 'w') as file:\n",
    "    for item in NoSpaceBinOut:\n",
    "        file.write(item[0] + '\\n')"
   ]
  },
  {
   "cell_type": "code",
   "execution_count": 9,
   "metadata": {},
   "outputs": [],
   "source": [
    "block_size = 8\n",
    "Blocks = []\n",
    "\n",
    "for i in range(0, ImageOut.shape[0], block_size):\n",
    "    # Iterate over the columns\n",
    "    for j in range(0, ImageOut.shape[1], block_size):\n",
    "        # Extract the 8x8 block\n",
    "        block = ImageOut[i:i+block_size, j:j+block_size]\n",
    "        Blocks.append(block)"
   ]
  },
  {
   "cell_type": "code",
   "execution_count": 10,
   "metadata": {},
   "outputs": [
    {
     "name": "stdout",
     "output_type": "stream",
     "text": [
      "<class 'numpy.ndarray'>\n"
     ]
    }
   ],
   "source": [
    "print(type(Blocks[0]))"
   ]
  },
  {
   "cell_type": "code",
   "execution_count": 11,
   "metadata": {},
   "outputs": [
    {
     "data": {
      "text/plain": [
       "(8, 8)"
      ]
     },
     "execution_count": 11,
     "metadata": {},
     "output_type": "execute_result"
    }
   ],
   "source": [
    "Blocks[0].shape"
   ]
  },
  {
   "cell_type": "code",
   "execution_count": 15,
   "metadata": {},
   "outputs": [],
   "source": [
    "BinaryStrOut = []\n",
    "\n",
    "for Block in Blocks:\n",
    "    Str = \"\"\n",
    "    for Row in Block:\n",
    "        for Num in Row:\n",
    "            Bin = bin(int(Num))[2:].zfill(8)\n",
    "            Str += Bin\n",
    "    Str = [Str]\n",
    "    BinaryStrOut.append(Str)"
   ]
  },
  {
   "cell_type": "code",
   "execution_count": 16,
   "metadata": {},
   "outputs": [
    {
     "name": "stdout",
     "output_type": "stream",
     "text": [
      "512\n"
     ]
    }
   ],
   "source": [
    "print(len(BinaryStrOut[0][0]))"
   ]
  },
  {
   "cell_type": "code",
   "execution_count": 27,
   "metadata": {},
   "outputs": [],
   "source": [
    "OutputPath = '64BitBinaryOutput.txt'\n",
    "\n",
    "with open(OutputPath, 'w') as file:\n",
    "    for item in BinaryStrOut:\n",
    "        file.write(item[0] + '\\n')"
   ]
  },
  {
   "cell_type": "code",
   "execution_count": 17,
   "metadata": {},
   "outputs": [],
   "source": [
    "OutputPath = '512BitBinaryOutput.txt'\n",
    "\n",
    "with open(OutputPath, 'w') as file:\n",
    "    for item in BinaryStrOut:\n",
    "        file.write(item[0] + '\\n')"
   ]
  },
  {
   "cell_type": "code",
   "execution_count": null,
   "metadata": {},
   "outputs": [],
   "source": []
  }
 ],
 "metadata": {
  "kernelspec": {
   "display_name": "base",
   "language": "python",
   "name": "python3"
  },
  "language_info": {
   "codemirror_mode": {
    "name": "ipython",
    "version": 3
   },
   "file_extension": ".py",
   "mimetype": "text/x-python",
   "name": "python",
   "nbconvert_exporter": "python",
   "pygments_lexer": "ipython3",
   "version": "3.10.6"
  }
 },
 "nbformat": 4,
 "nbformat_minor": 2
}
